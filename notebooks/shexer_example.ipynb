{
  "nbformat": 4,
  "nbformat_minor": 0,
  "metadata": {
    "colab": {
      "provenance": []
    },
    "kernelspec": {
      "name": "python3",
      "display_name": "Python 3"
    },
    "language_info": {
      "name": "python"
    }
  },
  "cells": [
    {
      "cell_type": "markdown",
      "source": [
        "Instal sheXer using pip. It is compatible with Python 3.7, 3.8, 3.9, 3.10, 3.11"
      ],
      "metadata": {
        "id": "0t05VqJhztZY"
      }
    },
    {
      "cell_type": "code",
      "execution_count": null,
      "metadata": {
        "id": "2yWDxwvSGW5U"
      },
      "outputs": [],
      "source": [
        "\n",
        "\n",
        "!pip install shexer\n",
        "\n"
      ]
    },
    {
      "cell_type": "markdown",
      "source": [
        "To execute shexer you need to create an instance of the object Shaper. This object will be built with all the parameters that you need to tune the extraction process. You need make a mandatory decission of 2 things: which is your data source and what shapes you want to extract from it. Beyonf that, you can set many other parameters to modify how sheXer extract shapes, but all those parameters have default values."
      ],
      "metadata": {
        "id": "dpK9cmG4z8Bm"
      }
    },
    {
      "cell_type": "code",
      "source": [
        "from shexer.shaper import Shaper"
      ],
      "metadata": {
        "id": "V5TocAvhGoAl"
      },
      "execution_count": 3,
      "outputs": []
    },
    {
      "cell_type": "markdown",
      "source": [
        "In this case, we are getting a shape for the class Q7187 (gene). For that we are using 50 random instances of such class and we are consuming data from Wikidata's endpoint."
      ],
      "metadata": {
        "id": "C6IxK6661G_0"
      }
    },
    {
      "cell_type": "code",
      "source": [
        "shape_map_raw = 'SPARQL \"select ?s where {  ?s <http://www.wikidata.org/prop/direct/P31> <http://www.wikidata.org/entity/Q7187> .   } limit 50\"@<ActiveSite>'\n",
        "\n",
        "shaper = Shaper(shape_map_raw=shape_map_raw,\n",
        "                url_endpoint=\"https://query.wikidata.org/sparql\",\n",
        "                instantiation_property=\"http://www.wikidata.org/prop/direct/P31\")\n",
        "\n",
        "str_result = shaper.shex_graph(string_output=True)\n",
        "print(str_result)\n"
      ],
      "metadata": {
        "id": "AFUsoMtuHB3m"
      },
      "execution_count": null,
      "outputs": []
    },
    {
      "cell_type": "markdown",
      "source": [
        "The results obtained are pretty ugly. But we can, for example, bind some namespaces there to make it more readable. Also, we can tell shexer to annotate with a label every Wikidata elements that it recognizes."
      ],
      "metadata": {
        "id": "GC44_8pm1MID"
      }
    },
    {
      "cell_type": "code",
      "source": [
        "shape_map_raw = 'SPARQL \"select ?s where {  ?s <http://www.wikidata.org/prop/direct/P31> <http://www.wikidata.org/entity/Q7187> .   } limit 50\"@<ActiveSite>'\n",
        "\n",
        "namespaces_dict = {\n",
        "            \"http://example.org/\": \"ex\",\n",
        "            \"http://www.w3.org/XML/1998/namespace/\": \"xml\",\n",
        "            \"http://www.w3.org/1999/02/22-rdf-syntax-ns#\": \"rdf\",\n",
        "            \"http://www.w3.org/2000/01/rdf-schema#\": \"rdfs\",\n",
        "            \"http://www.w3.org/2001/XMLSchema#\": \"xsd\",\n",
        "            \"http://xmlns.com/foaf/0.1/\": \"foaf\",\n",
        "            \"http://www.wikidata.org/prop/direct/\" : \"wdt\",\n",
        "            \"http://www.wikidata.org/entity/\" : \"wd\"\n",
        "            }\n",
        "\n",
        "shaper = Shaper(shape_map_raw=shape_map_raw,\n",
        "                url_endpoint=\"https://query.wikidata.org/sparql\",\n",
        "                instantiation_property=\"http://www.wikidata.org/prop/direct/P31\",\n",
        "                namespaces_dict=namespaces_dict,\n",
        "                wikidata_annotation=True)\n",
        "\n",
        "str_result = shaper.shex_graph(string_output=True)\n",
        "print(str_result)\n"
      ],
      "metadata": {
        "id": "gdvHWnZ2LcTC"
      },
      "execution_count": null,
      "outputs": []
    },
    {
      "cell_type": "markdown",
      "source": [
        "We can also tell sheXer to ignore triples using properties of some namespaces. For example, this can be useful to skip non-direct triples. We could also maybe tell sheXer to skip any triple constraint which is not obsreved among at least half of the tracked instances."
      ],
      "metadata": {
        "id": "be2CBpFm1gTM"
      }
    },
    {
      "cell_type": "code",
      "source": [
        "shape_map_raw = 'SPARQL \"select ?s where {  ?s <http://www.wikidata.org/prop/direct/P31> <http://www.wikidata.org/entity/Q7187> .   } limit 50\"@<ActiveSite>'\n",
        "\n",
        "namespaces_dict = {\n",
        "            \"http://example.org/\": \"ex\",\n",
        "            \"http://www.w3.org/XML/1998/namespace/\": \"xml\",\n",
        "            \"http://www.w3.org/1999/02/22-rdf-syntax-ns#\": \"rdf\",\n",
        "            \"http://www.w3.org/2000/01/rdf-schema#\": \"rdfs\",\n",
        "            \"http://www.w3.org/2001/XMLSchema#\": \"xsd\",\n",
        "            \"http://xmlns.com/foaf/0.1/\": \"foaf\",\n",
        "            \"http://www.wikidata.org/prop/direct/\" : \"wdt\",\n",
        "            \"http://www.wikidata.org/entity/\" : \"wd\"\n",
        "            }\n",
        "namespaces_to_ignore = [\"http://www.wikidata.org/prop/\",\n",
        "                        \"http://www.w3.org/2004/02/skos/core#\",\n",
        "                        \"http://schema.org/\",\n",
        "                        \"http://wikiba.se/ontology#\",\n",
        "                        \"http://www.wikidata.org/prop/direct-normalized/\"]\n",
        "\n",
        "\n",
        "shaper = Shaper(shape_map_raw=shape_map_raw,\n",
        "                url_endpoint=\"https://query.wikidata.org/sparql\",\n",
        "                url_graph_input=\"https://github.com/kg-subsetting/simple_3000_dump/raw/main/random_slice.nt\",\n",
        "                instantiation_property=\"http://www.wikidata.org/prop/direct/P31\",\n",
        "                namespaces_dict=namespaces_dict,\n",
        "                namespaces_to_ignore=namespaces_to_ignore,\n",
        "                wikidata_annotation=True)\n",
        "\n",
        "str_result = shaper.shex_graph(string_output=True,\n",
        "                               acceptance_threshold=0.5)\n",
        "print(str_result)\n"
      ],
      "metadata": {
        "id": "45MFdQDSNL4a"
      },
      "execution_count": null,
      "outputs": []
    },
    {
      "cell_type": "markdown",
      "source": [
        "sheXer becomes faster when it does not depend on external endpoint, but parses RDF content. Ypu can parse it in several ways. In the next example we are feeding shexer with some NT file containing a partial wikidata (RDF) dump.\n",
        "Instead of using shape maps, we can just tell shexer to get a shape for every element with at least an instance. "
      ],
      "metadata": {
        "id": "LcyLyB-62Q90"
      }
    },
    {
      "cell_type": "code",
      "source": [
        "# shape_map_raw = 'SPARQL \"select ?s where {  ?s <http://www.wikidata.org/prop/direct/P31> <http://www.wikidata.org/entity/Q7187> .   } limit 50\"@<ActiveSite>'\n",
        "\n",
        "namespaces_dict = {\n",
        "            \"http://example.org/\": \"ex\",\n",
        "            \"http://www.w3.org/XML/1998/namespace/\": \"xml\",\n",
        "            \"http://www.w3.org/1999/02/22-rdf-syntax-ns#\": \"rdf\",\n",
        "            \"http://www.w3.org/2000/01/rdf-schema#\": \"rdfs\",\n",
        "            \"http://www.w3.org/2001/XMLSchema#\": \"xsd\",\n",
        "            \"http://xmlns.com/foaf/0.1/\": \"foaf\",\n",
        "            \"http://www.wikidata.org/prop/direct/\" : \"wdt\",\n",
        "            \"http://www.wikidata.org/entity/\" : \"wd\"\n",
        "            }\n",
        "namespaces_to_ignore = [\"http://www.wikidata.org/prop/\",\n",
        "                        \"http://www.w3.org/2004/02/skos/core#\",\n",
        "                        \"http://schema.org/\",\n",
        "                        \"http://wikiba.se/ontology#\",\n",
        "                        \"http://www.wikidata.org/prop/direct-normalized/\"]\n",
        "\n",
        "\n",
        "shaper = Shaper(# shape_map_raw=shape_map_raw,\n",
        "                # url_endpoint=\"https://query.wikidata.org/sparql\",\n",
        "                url_graph_input=\"https://github.com/kg-subsetting/simple_3000_dump/raw/main/random_slice.nt\",\n",
        "                instantiation_property=\"http://www.wikidata.org/prop/direct/P31\",\n",
        "                all_classes_mode=True,\n",
        "                namespaces_dict=namespaces_dict,\n",
        "                namespaces_to_ignore=namespaces_to_ignore,\n",
        "                wikidata_annotation=True)\n",
        "\n",
        "str_result = shaper.shex_graph(string_output=True,\n",
        "                               acceptance_threshold=0.5)\n",
        "print(str_result)\n"
      ],
      "metadata": {
        "id": "_HZjw8K_3Mym"
      },
      "execution_count": null,
      "outputs": []
    },
    {
      "cell_type": "markdown",
      "source": [
        "Or we could be more specific and thell sheXer to get a shape for just one/several specific classes."
      ],
      "metadata": {
        "id": "6pNqvrz23iC3"
      }
    },
    {
      "cell_type": "code",
      "source": [
        "# shape_map_raw = 'SPARQL \"select ?s where {  ?s <http://www.wikidata.org/prop/direct/P31> <http://www.wikidata.org/entity/Q7187> .   } limit 50\"@<ActiveSite>'\n",
        "\n",
        "namespaces_dict = {\n",
        "            \"http://example.org/\": \"ex\",\n",
        "            \"http://www.w3.org/XML/1998/namespace/\": \"xml\",\n",
        "            \"http://www.w3.org/1999/02/22-rdf-syntax-ns#\": \"rdf\",\n",
        "            \"http://www.w3.org/2000/01/rdf-schema#\": \"rdfs\",\n",
        "            \"http://www.w3.org/2001/XMLSchema#\": \"xsd\",\n",
        "            \"http://xmlns.com/foaf/0.1/\": \"foaf\",\n",
        "            \"http://www.wikidata.org/prop/direct/\" : \"wdt\",\n",
        "            \"http://www.wikidata.org/entity/\" : \"wd\"\n",
        "            }\n",
        "namespaces_to_ignore = [\"http://www.wikidata.org/prop/\",\n",
        "                        \"http://www.w3.org/2004/02/skos/core#\",\n",
        "                        \"http://schema.org/\",\n",
        "                        \"http://wikiba.se/ontology#\",\n",
        "                        \"http://www.wikidata.org/prop/direct-normalized/\"]\n",
        "\n",
        "\n",
        "shaper = Shaper(# shape_map_raw=shape_map_raw,\n",
        "                # url_endpoint=\"https://query.wikidata.org/sparql\",\n",
        "                url_graph_input=\"https://github.com/kg-subsetting/simple_3000_dump/raw/main/random_slice.nt\",\n",
        "                instantiation_property=\"http://www.wikidata.org/prop/direct/P31\",\n",
        "                target_classes=[\"wd:Q11424\"],\n",
        "                namespaces_dict=namespaces_dict,\n",
        "                namespaces_to_ignore=namespaces_to_ignore,\n",
        "                wikidata_annotation=True)\n",
        "\n",
        "str_result = shaper.shex_graph(string_output=True,\n",
        "                               acceptance_threshold=0.5)\n",
        "print(str_result)\n"
      ],
      "metadata": {
        "id": "Lkow2l3jzDX3"
      },
      "execution_count": null,
      "outputs": []
    },
    {
      "cell_type": "markdown",
      "source": [
        "There are many ways to provide input and to configure what shaopes you want to get or how are they supposed to look like. Check https://github.com/DaniFdezAlvarez/shexer to dig deeper into this tool. "
      ],
      "metadata": {
        "id": "DZul2cF-3wZ_"
      }
    }
  ]
}
